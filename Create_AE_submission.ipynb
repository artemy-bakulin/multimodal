{
 "cells": [
  {
   "cell_type": "code",
   "execution_count": 1,
   "id": "e43d5c4a",
   "metadata": {},
   "outputs": [],
   "source": [
    "import numpy as np\n",
    "import pandas as pd"
   ]
  },
  {
   "cell_type": "code",
   "execution_count": 2,
   "id": "668a775e",
   "metadata": {},
   "outputs": [],
   "source": [
    "o_data_dir = '/home/artemy/multimodal_proj/data/AE_predictions/'\n",
    "\n",
    "multi_gex_file = o_data_dir + \"multi_gex_pred.npy\"\n",
    "cite_adt_file = o_data_dir + \"cite_adt_pred.npy\""
   ]
  },
  {
   "cell_type": "code",
   "execution_count": 3,
   "id": "cd63b67e",
   "metadata": {},
   "outputs": [],
   "source": [
    "gex_predicted = np.load(multi_gex_file)\n",
    "cite_predicted = np.load(cite_adt_file)"
   ]
  },
  {
   "cell_type": "code",
   "execution_count": 4,
   "id": "bff8e9b6",
   "metadata": {},
   "outputs": [],
   "source": [
    "competion_dir = '/home/artemy/multimodal_proj/data/competition/'\n",
    "eval_form = pd.read_csv(competion_dir + 'evaluation_ids.csv')\n",
    "\n",
    "\n"
   ]
  },
  {
   "cell_type": "code",
   "execution_count": 5,
   "id": "cdd20190",
   "metadata": {},
   "outputs": [],
   "source": [
    "competion_dir = '/home/artemy/multimodal_proj/data/competition/'\n",
    "\n",
    "cell_labels_cite = pd.read_hdf(competion_dir + 'test_cite_inputs.h5').index.tolist()\n",
    "cell_labels_multi = pd.read_hdf(competion_dir + 'test_multi_inputs.h5').index.tolist()"
   ]
  },
  {
   "cell_type": "code",
   "execution_count": 15,
   "id": "3eddf599",
   "metadata": {},
   "outputs": [
    {
     "data": {
      "text/plain": [
       "16780"
      ]
     },
     "execution_count": 15,
     "metadata": {},
     "output_type": "execute_result"
    }
   ],
   "source": [
    "len(set(cell_labels_multi)& set(eval_form['cell_id']))"
   ]
  },
  {
   "cell_type": "code",
   "execution_count": 6,
   "id": "e3cbf6af",
   "metadata": {},
   "outputs": [],
   "source": [
    "adt_features = pd.read_hdf(competion_dir + 'train_cite_targets.h5').columns.tolist()\n",
    "gex_features = pd.read_hdf(competion_dir + 'train_multi_targets.h5').columns.tolist()"
   ]
  },
  {
   "cell_type": "code",
   "execution_count": 7,
   "id": "668eacc7",
   "metadata": {},
   "outputs": [],
   "source": [
    "adt_di = dict(zip(adt_features, range(len(adt_features))))\n",
    "gex_di = dict(zip(gex_features, range(len(gex_features))))"
   ]
  },
  {
   "cell_type": "code",
   "execution_count": 8,
   "id": "c4b00d17",
   "metadata": {},
   "outputs": [],
   "source": [
    "eval_form['idx'] = eval_form['gene_id'].apply(lambda x: adt_di[x] if x in adt_di else gex_di[x])"
   ]
  },
  {
   "cell_type": "code",
   "execution_count": 9,
   "id": "341d7e74",
   "metadata": {},
   "outputs": [],
   "source": [
    "eval_form_grouped = eval_form.groupby('cell_id', sort=False)"
   ]
  },
  {
   "cell_type": "code",
   "execution_count": 10,
   "id": "0c4776b9",
   "metadata": {},
   "outputs": [],
   "source": [
    "outputs = []\n",
    "for cell, df in eval_form_grouped:\n",
    "    if cell in cell_labels_cite:\n",
    "        cell_idx = cell_labels_cite.index(cell)\n",
    "        outputs.append(cite_predicted[cell_idx, df.idx])\n",
    "    else:\n",
    "        cell_idx = cell_labels_multi.index(cell)\n",
    "        outputs.append(gex_predicted[cell_idx, df.idx])\n",
    "        \n",
    "concat_outputs = np.concatenate(outputs)"
   ]
  },
  {
   "cell_type": "code",
   "execution_count": 11,
   "id": "801b7339",
   "metadata": {},
   "outputs": [],
   "source": [
    "submission = pd.read_csv(competion_dir + 'sample_submission.csv', index_col=0)\n",
    "submission['target'] = concat_outputs\n",
    "submission.to_csv(o_data_dir+'submission.csv')"
   ]
  },
  {
   "cell_type": "code",
   "execution_count": null,
   "id": "95574efe",
   "metadata": {},
   "outputs": [],
   "source": []
  }
 ],
 "metadata": {
  "kernelspec": {
   "display_name": "Python 3 (ipykernel)",
   "language": "python",
   "name": "python3"
  },
  "language_info": {
   "codemirror_mode": {
    "name": "ipython",
    "version": 3
   },
   "file_extension": ".py",
   "mimetype": "text/x-python",
   "name": "python",
   "nbconvert_exporter": "python",
   "pygments_lexer": "ipython3",
   "version": "3.9.12"
  }
 },
 "nbformat": 4,
 "nbformat_minor": 5
}
