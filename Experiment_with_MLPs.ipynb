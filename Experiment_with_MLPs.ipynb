{
 "cells": [
  {
   "cell_type": "code",
   "execution_count": 61,
   "id": "4f3e04d1",
   "metadata": {},
   "outputs": [
    {
     "ename": "IndentationError",
     "evalue": "expected an indented block (utils.py, line 472)",
     "output_type": "error",
     "traceback": [
      "Traceback \u001b[0;36m(most recent call last)\u001b[0m:\n",
      "  File \u001b[1;32m~/bin/miniconda3/envs/torch/lib/python3.9/site-packages/IPython/core/interactiveshell.py:3398\u001b[0m in \u001b[1;35mrun_code\u001b[0m\n    exec(code_obj, self.user_global_ns, self.user_ns)\n",
      "  Input \u001b[1;32mIn [61]\u001b[0m in \u001b[1;35m<cell line: 20>\u001b[0m\n    reload(utils)\n",
      "  File \u001b[1;32m~/bin/miniconda3/envs/torch/lib/python3.9/importlib/__init__.py:169\u001b[0m in \u001b[1;35mreload\u001b[0m\n    _bootstrap._exec(spec, module)\n",
      "  File \u001b[1;32m<frozen importlib._bootstrap>:613\u001b[0m in \u001b[1;35m_exec\u001b[0m\n",
      "  File \u001b[1;32m<frozen importlib._bootstrap_external>:846\u001b[0m in \u001b[1;35mexec_module\u001b[0m\n",
      "  File \u001b[1;32m<frozen importlib._bootstrap_external>:983\u001b[0m in \u001b[1;35mget_code\u001b[0m\n",
      "  File \u001b[1;32m<frozen importlib._bootstrap_external>:913\u001b[0m in \u001b[1;35msource_to_code\u001b[0m\n",
      "\u001b[0;36m  File \u001b[0;32m<frozen importlib._bootstrap>:228\u001b[0;36m in \u001b[0;35m_call_with_frames_removed\u001b[0;36m\u001b[0m\n",
      "\u001b[0;36m  File \u001b[0;32m~/multimodal_proj/nb/utils.py:472\u001b[0;36m\u001b[0m\n\u001b[0;31m    l1_norm = sum([torch.abs(p).sum() for p in self.model.parameters()])\u001b[0m\n\u001b[0m    ^\u001b[0m\n\u001b[0;31mIndentationError\u001b[0m\u001b[0;31m:\u001b[0m expected an indented block\n"
     ]
    }
   ],
   "source": [
    "import torch\n",
    "from torch import nn\n",
    "import pandas as pd\n",
    "import numpy as np\n",
    "from scipy import sparse\n",
    "import time\n",
    "\n",
    "import matplotlib.pyplot as plt\n",
    "\n",
    "from torch.utils.tensorboard import SummaryWriter\n",
    "import torch.nn.functional as F\n",
    "from torch.optim.swa_utils import AveragedModel\n",
    "from tqdm import tqdm\n",
    "\n",
    "from torch_lr_finder import LRFinder\n",
    "\n",
    "import utils\n",
    "from importlib import reload\n",
    "\n",
    "reload(utils)"
   ]
  },
  {
   "cell_type": "code",
   "execution_count": 62,
   "id": "b7d7a67c",
   "metadata": {},
   "outputs": [
    {
     "name": "stdout",
     "output_type": "stream",
     "text": [
      "Using GPU\n"
     ]
    }
   ],
   "source": [
    "if torch.cuda.is_available():\n",
    "    device = torch.device(\"cuda:0\")\n",
    "    print('Using GPU')\n",
    "else:\n",
    "    device = torch.device(\"cpu\")"
   ]
  },
  {
   "cell_type": "markdown",
   "id": "b00d18ba",
   "metadata": {},
   "source": [
    "## Files"
   ]
  },
  {
   "cell_type": "code",
   "execution_count": 63,
   "id": "c5923b52",
   "metadata": {},
   "outputs": [],
   "source": [
    "DATASET = 'cite'\n",
    "\n",
    "data_dir = '/home/artemy/multimodal_proj/data/competition/'\n",
    "log_dir = '/home/artemy/multimodal_proj/cur_model_tb'\n",
    "o_dir = '/home/artemy/multimodal_proj/data/AE_predictions/'\n",
    "\n",
    "\n",
    "if DATASET == 'multi':\n",
    "    inputs_train_fn = data_dir + \"atac_train.sparse.npz\"\n",
    "    imputed_inputs_train_fn = data_dir + \"atac_train_raw_imputed_with_scale.sparse.npz\"\n",
    "    targets_train_fn = data_dir + \"gex_train.sparse.npz\"\n",
    "    inputs_test_fn = data_dir + \"atac_test_raw.sparse.npz\"\n",
    "    imputed_inputs_test_fn = data_dir + \"atac_test_raw_imputed_with_scale.sparse.npz\"\n",
    "\n",
    "    pred_file = o_dir + \"multi_gex_pred.npy\"\n",
    "elif DATASET == 'cite':\n",
    "    inputs_train_fn = data_dir + \"cite_gex_train.sparse.npz\"\n",
    "    targets_train_fn = data_dir + \"cite_adt_train.sparse.npz\"\n",
    "    inputs_test_fn = data_dir + \"cite_gex_test.sparse.npz\"\n",
    "    pred_file = o_dir + \"cite_adt_pred.npy\"\n",
    "    \n",
    "    imputed_inputs_train_fn = data_dir + \"cite_gex_train_magic.sparse.npz\"\n",
    "    imputed_inputs_test_fn = data_dir + \"cite_gex_test_magic.sparse.npz\""
   ]
  },
  {
   "cell_type": "markdown",
   "id": "96359dd6",
   "metadata": {},
   "source": [
    "## Model:"
   ]
  },
  {
   "cell_type": "code",
   "execution_count": 64,
   "id": "f59492d2",
   "metadata": {},
   "outputs": [],
   "source": [
    "class MLP_Original_Multi(nn.Module, utils.HyperParameters):\n",
    "    def __init__(self,\n",
    "                 input_dim: int,\n",
    "                 output_dim: int,\n",
    "                 device = 'cpu',\n",
    "                 **kwargs\n",
    "    ):\n",
    "        super().__init__()\n",
    "        self.save_hyperparameters()\n",
    "        \n",
    "        \n",
    "        modules = []\n",
    "        input_dim = self.input_dim\n",
    "        output_dim = 2000\n",
    "        self.l1 = nn.Linear(input_dim, output_dim)\n",
    "        self.bn1 = nn.BatchNorm1d(num_features=output_dim)  \n",
    "        self.act1 = nn.SiLU()\n",
    "        \n",
    "        input_dim = output_dim\n",
    "        output_dim = 2000\n",
    "        self.l2 = nn.Linear(input_dim, output_dim)\n",
    "        self.bn2 = nn.BatchNorm1d(num_features=output_dim)\n",
    "        self.act2 = nn.SiLU()\n",
    "        \n",
    "        input_dim = output_dim\n",
    "        output_dim = 2000\n",
    "        self.l3 = nn.Linear(input_dim, output_dim)\n",
    "        self.bn3 = nn.BatchNorm1d(num_features=output_dim)           \n",
    "        self.act3 = nn.SiLU()\n",
    "        \n",
    "        input_dim = output_dim\n",
    "        output_dim = 2000\n",
    "        self.l4 = nn.Linear(input_dim, output_dim)\n",
    "        self.bn4 = nn.BatchNorm1d(num_features=output_dim)           \n",
    "        self.act4 = nn.SiLU()\n",
    "        \n",
    "        input_dim = output_dim\n",
    "        output_dim = self.output_dim\n",
    "        self.l5 = nn.Linear(input_dim, output_dim)\n",
    "            \n",
    "        self.net = nn.Sequential(self.l1, self.bn1, self.act1,\n",
    "                                 self.l2, self.bn2, self.act2,\n",
    "                                 self.l3, self.bn3, self.act3,\n",
    "                                 self.l4, self.bn4, self.act4,\n",
    "                                 self.l5) \n",
    "        self.net.apply(utils.init_weights)\n",
    "    \n",
    "    def forward(self, x):\n",
    "\n",
    "        out = self.l1(x)\n",
    "        out = self.bn1(out)\n",
    "        out1 = self.act1(out)\n",
    "        \n",
    "        out = self.l2(out1)\n",
    "        out = self.bn2(out)\n",
    "        out2 = self.act2(out)\n",
    "        \n",
    "        out = self.l3(out2)\n",
    "        out = self.bn3(out)\n",
    "        out3 = self.act3(out)\n",
    "        \n",
    "        out = self.l4(out3)\n",
    "        out = self.bn4(out)\n",
    "        out4 = self.act4(out)\n",
    "                        \n",
    "        out = self.l5(out4)\n",
    "            \n",
    "        return out"
   ]
  },
  {
   "cell_type": "code",
   "execution_count": 65,
   "id": "4ddb3f5c",
   "metadata": {},
   "outputs": [],
   "source": [
    "class MLP_SVD_and_Original(nn.Module, utils.HyperParameters):\n",
    "    def __init__(self,\n",
    "                 input_dim: int,\n",
    "                 output_dim: int,\n",
    "                 n_components = 128,\n",
    "                 device = 'cpu',\n",
    "                 **kwargs\n",
    "    ):\n",
    "        super().__init__()\n",
    "        self.save_hyperparameters()\n",
    "        \n",
    "        \n",
    "        modules = []\n",
    "        input_dim = self.input_dim - self.n_components\n",
    "        output_dim1 = 512\n",
    "        self.l1 = nn.Linear(input_dim, output_dim1)\n",
    "        self.bn1 = nn.BatchNorm1d(num_features=output_dim1)  \n",
    "        self.act1 = nn.SiLU()\n",
    "        \n",
    "        input_dim = output_dim1\n",
    "        output_dim1_2 = 256\n",
    "        self.l1_2 = nn.Linear(input_dim, output_dim1_2)\n",
    "        self.bn1_2 = nn.BatchNorm1d(num_features=output_dim1_2)  \n",
    "        self.act1_2 = nn.SiLU()\n",
    "        \n",
    "        input_dim = output_dim1_2 + self.n_components\n",
    "        output_dim2 = 256 + self.n_components\n",
    "        self.l2 = nn.Linear(input_dim, output_dim2)\n",
    "        self.bn2 = nn.BatchNorm1d(num_features=output_dim2)\n",
    "        self.act2 = nn.SiLU()\n",
    "        \n",
    "        input_dim = output_dim2\n",
    "        output_dim3 = 256\n",
    "        self.l3 = nn.Linear(input_dim, output_dim3)\n",
    "        self.bn3 = nn.BatchNorm1d(num_features=output_dim3)           \n",
    "        self.act3 = nn.SiLU()\n",
    "        \n",
    "        input_dim = output_dim3\n",
    "        output_dim4 = 256\n",
    "        self.l4 = nn.Linear(input_dim, output_dim4)\n",
    "        self.bn4 = nn.BatchNorm1d(num_features=output_dim4)           \n",
    "        self.act4 = nn.SiLU()\n",
    "        \n",
    "        input_dim = output_dim4 + output_dim3 + output_dim2\n",
    "        output_dim = self.output_dim\n",
    "        self.l5 = nn.Linear(input_dim, output_dim)\n",
    "\n",
    "            \n",
    "        self.net = nn.Sequential(self.l1, self.bn1, self.act1,\n",
    "                                 self.l1_2, self.bn1_2, self.act1_2,\n",
    "                                 self.l2, self.bn2, self.act2,\n",
    "                                 self.l3, self.bn3, self.act3,\n",
    "                                 self.l4, self.bn4, self.act4,\n",
    "                                 self.l5)\n",
    "        self.net.apply(utils.init_weights)\n",
    "    \n",
    "    def forward(self, x):\n",
    "\n",
    "        out = self.l1(x[:,self.n_components:])\n",
    "        out = self.bn1(out)\n",
    "        out1 = self.act1(out)\n",
    "        \n",
    "        out = self.l1_2(out1)\n",
    "        out = self.bn1_2(out)\n",
    "        out1 = self.act1_2(out)\n",
    "        \n",
    "        out = torch.concat((x[:, :self.n_components], out1), 1)\n",
    "        \n",
    "        out = self.l2(out)\n",
    "        out = self.bn2(out)\n",
    "        out2 = self.act2(out)\n",
    "        \n",
    "        out = self.l3(out2)\n",
    "        out = self.bn3(out)\n",
    "        out3 = self.act3(out)\n",
    "        \n",
    "        out = self.l4(out3)\n",
    "        out = self.bn4(out)\n",
    "        out4 = self.act4(out)\n",
    "                \n",
    "        out = torch.concat((out2, out3, out4), 1)\n",
    "                \n",
    "        out = self.l5(out)\n",
    "\n",
    "\n",
    "        return out\n",
    "    \n",
    "    def loss(self, y, y_hat):\n",
    "        l = torch.tensor([0.], device=self.device)\n",
    "        l += self.MSE_loss(y, y_hat)\n",
    "        l += torch.sum(torch.abs(list(self.parameters())[0])) * 1e-2\n",
    "        return l"
   ]
  },
  {
   "cell_type": "code",
   "execution_count": 66,
   "id": "9475de28",
   "metadata": {},
   "outputs": [],
   "source": [
    "class MLP_Cite_SVD(nn.Module, utils.HyperParameters):\n",
    "    def __init__(self,\n",
    "                 input_dim: int,\n",
    "                 output_dim: int,\n",
    "                 device = 'cpu',\n",
    "                 **kwargs \n",
    "    ):\n",
    "        super().__init__()\n",
    "        self.save_hyperparameters()\n",
    "        \n",
    "        \n",
    "        modules = []\n",
    "        input_dim = self.input_dim\n",
    "        output_dim1 = 512\n",
    "        self.l1 = nn.Linear(input_dim, output_dim1)\n",
    "        self.bn1 = nn.BatchNorm1d(num_features=output_dim1)          \n",
    "        self.act1 = nn.SiLU()\n",
    "        \n",
    "        input_dim = output_dim1\n",
    "        output_dim2 = 256 \n",
    "        self.l2 = nn.Linear(input_dim, output_dim2)\n",
    "        self.bn2 = nn.BatchNorm1d(num_features=output_dim2)          \n",
    "        self.act2 = nn.SiLU()\n",
    "        \n",
    "        input_dim = output_dim2\n",
    "        output_dim3 = 128 \n",
    "        self.l3 = nn.Linear(input_dim, output_dim3)\n",
    "        self.bn3 = nn.BatchNorm1d(num_features=output_dim3)           \n",
    "        self.act3 = nn.SiLU()\n",
    "        \n",
    "        input_dim = output_dim3\n",
    "        output_dim4 = 64 \n",
    "        self.l4 = nn.Linear(input_dim, output_dim4)\n",
    "        self.bn4 = nn.BatchNorm1d(num_features=output_dim4)           \n",
    "        self.act4 = nn.SiLU()\n",
    "        \n",
    "        input_dim = output_dim1 + output_dim2 + output_dim3 + output_dim4\n",
    "        output_dim5 = self.output_dim\n",
    "        self.l5 = nn.Linear(input_dim, output_dim5)\n",
    "        \n",
    "        self.net = nn.Sequential(self.l1, self.bn1, self.act1,\n",
    "                                 self.l2, self.bn2, self.act2,\n",
    "                                 self.l3, self.bn3, self.act3,\n",
    "                                 self.l4, self.bn4, self.act4,\n",
    "                                 self.l5) \n",
    "        self.net.apply(utils.init_weights)\n",
    "    \n",
    "    def forward(self, x):\n",
    "\n",
    "        out = self.l1(x)\n",
    "        out = self.bn1(out)\n",
    "        out1 = self.act1(out)\n",
    "        \n",
    "        out = self.l2(out1)\n",
    "        out = self.bn2(out)\n",
    "        out2 = self.act2(out)\n",
    "        \n",
    "        out = self.l3(out2)\n",
    "        out = self.bn3(out)\n",
    "        out3 = self.act3(out)\n",
    "        \n",
    "        out = self.l4(out3)\n",
    "        out = self.bn4(out)\n",
    "        out4 = self.act4(out)\n",
    "        \n",
    "        out = torch.concat((out1, out2, out3, out4), 1)\n",
    "                \n",
    "        out = self.l5(out)\n",
    "        \n",
    "        return out\n",
    "    \n",
    "    \n",
    "    def loss(self, y, y_hat):\n",
    "        l = torch.tensor([0.], device=self.device)\n",
    "        l += self.MSE_loss(y, y_hat)\n",
    "        return l"
   ]
  },
  {
   "cell_type": "code",
   "execution_count": 67,
   "id": "7c6c7c4d",
   "metadata": {},
   "outputs": [],
   "source": [
    "   \n",
    "class Res_Block(nn.Module):\n",
    "    def __init__(self,\n",
    "                layer_sizes = [256, 256, 256]):\n",
    "        super().__init__()\n",
    "        self.save_hyperparameters()\n",
    "        self.layers_sizes = self.layers_sizes + [sum(self.layer_sizes)]\n",
    "        self.n_layers = len(self.layers_sizes) - 1\n",
    "        modules = []\n",
    "        for i in range(self.n_layers):\n",
    "            input_dim = self.layers_sizes[i]\n",
    "            output_dim = self.layers_sizes[i + 1]\n",
    "            modules.append(nn.Linear(input_dim, output_dim))\n",
    "            if i < self.n_layers - 1:\n",
    "                modules.append(nn.BatchNorm1d(num_features=output_dim))          \n",
    "                modules.append(nn.SiLU())\n",
    "        self.net = nn.Sequential(*modules)\n",
    "        self.net.apply(utils.init_weights)\n",
    "        \n",
    "    def forward(self, x):\n",
    "        layer_outputs = []\n",
    "        for i, module in enumerate(self.net):\n",
    "            if i == len(self.net):\n",
    "                x = torch.concat(layer_outputs, 1)\n",
    "            x = module(x)\n",
    "            layer_outputs.append(x)\n",
    "            if isinstance(module, nn.SiLU):\n",
    "                layer_outputs.append(x)\n",
    "                \n",
    "        return x"
   ]
  },
  {
   "cell_type": "code",
   "execution_count": 68,
   "id": "b1226427",
   "metadata": {},
   "outputs": [],
   "source": [
    "class Universal_Model(nn.Module, utils.HyperParameters):\n",
    "    def __init__(self,\n",
    "                 input_dim: int,\n",
    "                 output_dim: int,\n",
    "                 layers_sizes = [512] * 4,\n",
    "                 concat_pos = 4,\n",
    "                 n_of_layers_to_concat = 3,\n",
    "                 dropout = 1,\n",
    "                 device = 'cpu',\n",
    "                 **kwargs \n",
    "    ):\n",
    "        super().__init__()\n",
    "        self.save_hyperparameters()\n",
    "        self.layers_sizes = [self.input_dim] + self.layers_sizes + [self.output_dim]\n",
    "        self.n_layers = len(self.layers_sizes) - 1\n",
    "        modules = []\n",
    "        for i in range(self.n_layers):\n",
    "            if i != self.concat_pos:\n",
    "                input_dim = self.layers_sizes[i]\n",
    "            else:\n",
    "                input_dim = sum(self.layers_sizes[self.concat_pos-self.n_of_layers_to_concat+1:self.concat_pos+1])\n",
    "            output_dim = self.layers_sizes[i + 1]\n",
    "            if i < self.n_layers and dropout != 1:\n",
    "                modules.append(nn.Dropout1d(dropout))\n",
    "            modules.append(nn.Linear(input_dim, output_dim))\n",
    "            if i < self.n_layers - 1:\n",
    "                modules.append(nn.BatchNorm1d(num_features=output_dim))          \n",
    "                modules.append(nn.SiLU())\n",
    "        self.net = nn.Sequential(*modules)\n",
    "        self.net.apply(utils.init_weights)\n",
    "    \n",
    "    def forward(self, x):\n",
    "        fc_layer_n = 0\n",
    "        layer_outputs = []\n",
    "        for module in self.net:\n",
    "            if fc_layer_n == self.concat_pos and isinstance(module, nn.Linear):\n",
    "                x = torch.concat(layer_outputs[-self.n_of_layers_to_concat:], 1)\n",
    "            x = module(x)\n",
    "            if isinstance(module, nn.SiLU):\n",
    "                layer_outputs.append(x)\n",
    "            if isinstance(module, nn.Linear):\n",
    "                fc_layer_n += 1\n",
    "        return x"
   ]
  },
  {
   "cell_type": "markdown",
   "id": "520b0dee",
   "metadata": {},
   "source": [
    "## Load data"
   ]
  },
  {
   "cell_type": "code",
   "execution_count": 54,
   "id": "303d5621",
   "metadata": {},
   "outputs": [],
   "source": [
    "load_data = 1\n",
    "use_imputed_data = 1\n",
    "if load_data:\n",
    "    inputs = utils.load_sparse_data(inputs_train_fn)\n",
    "    targets = utils.load_sparse_data(targets_train_fn)\n",
    "    inputs_test = utils.load_sparse_data(inputs_test_fn)\n",
    "    if use_imputed_data:\n",
    "        imputed_inputs = utils.load_sparse_data(imputed_inputs_train_fn)\n",
    "        imputed_inputs_test = utils.load_sparse_data(imputed_inputs_test_fn)"
   ]
  },
  {
   "cell_type": "code",
   "execution_count": 55,
   "id": "29cd4231",
   "metadata": {},
   "outputs": [],
   "source": [
    "from sklearn.decomposition import TruncatedSVD, NMF, PCA, KernelPCA\n",
    "\n",
    "batch_size = 2048\n",
    "num_workers = 1\n",
    "do_svd = True\n",
    "\n",
    "\n",
    "if not do_svd:\n",
    "    inputs_processed = imputed_inputs\n",
    "    inputs_test_processed = imputed_inputs_test\n",
    "elif DATASET == 'cite':\n",
    "    \n",
    "    n_components = 48\n",
    "    use_svd = 1\n",
    "    if use_svd:\n",
    "        svd =  TruncatedSVD(n_components=n_components, random_state=1)\n",
    "    else:\n",
    "        svd = umap.UMAP(n_components=n_components)\n",
    "        \n",
    "    inputs_combined = np.concatenate((inputs, inputs_test))\n",
    "    inputs_combined = svd.fit_transform(inputs_combined)\n",
    "    inputs_svd = inputs_combined[:len(inputs)]\n",
    "    inputs_test_svd = inputs_combined[-len(inputs_test):]\n",
    "    \n",
    "    use_imputed = 1\n",
    "    if use_imputed:\n",
    "        rna_levels = imputed_inputs\n",
    "        rna_levels_test = imputed_inputs_test\n",
    "    else:\n",
    "        rna_levels = inputs\n",
    "        rna_levels_test = inputs_test\n",
    "        \n",
    "    only_important_genes = 1\n",
    "    if only_important_genes:\n",
    "        cite_inputs_features = pd.read_csv(data_dir + 'cite_inputs_features.csv').iloc[:, 0].tolist()\n",
    "        important_cols = ['ENSG00000114013_CD86', 'ENSG00000120217_CD274', 'ENSG00000196776_CD47', 'ENSG00000117091_CD48', 'ENSG00000101017_CD40', 'ENSG00000102245_CD40LG', 'ENSG00000169442_CD52', 'ENSG00000117528_ABCD3', 'ENSG00000168014_C2CD3', 'ENSG00000167851_CD300A', 'ENSG00000167850_CD300C', 'ENSG00000186407_CD300E', 'ENSG00000178789_CD300LB', 'ENSG00000186074_CD300LF', 'ENSG00000241399_CD302', 'ENSG00000167775_CD320', 'ENSG00000105383_CD33', 'ENSG00000174059_CD34', 'ENSG00000135218_CD36', 'ENSG00000104894_CD37', 'ENSG00000004468_CD38', 'ENSG00000167286_CD3D', 'ENSG00000198851_CD3E', 'ENSG00000117877_CD3EAP', 'ENSG00000074696_HACD3', 'ENSG00000015676_NUDCD3', 'ENSG00000161714_PLCD3', 'ENSG00000132300_PTCD3', 'ENSG00000082014_SMARCD3', 'ENSG00000121594_CD80', 'ENSG00000110651_CD81', 'ENSG00000238184_CD81-AS1', 'ENSG00000085117_CD82', 'ENSG00000112149_CD83', 'ENSG00000066294_CD84', 'ENSG00000114013_CD86', 'ENSG00000172116_CD8B', 'ENSG00000254126_CD8B2', 'ENSG00000177455_CD19', 'ENSG00000105383_CD33', 'ENSG00000173762_CD7', 'ENSG00000125726_CD70', 'ENSG00000137101_CD72', 'ENSG00000019582_CD74', 'ENSG00000105369_CD79A', 'ENSG00000007312_CD79B', 'ENSG00000090470_PDCD7', 'ENSG00000119688_ABCD4', 'ENSG00000010610_CD4', 'ENSG00000101017_CD40', 'ENSG00000102245_CD40LG', 'ENSG00000026508_CD44', 'ENSG00000117335_CD46', 'ENSG00000196776_CD47', 'ENSG00000117091_CD48', 'ENSG00000188921_HACD4', 'ENSG00000150593_PDCD4', 'ENSG00000203497_PDCD4-AS1', 'ENSG00000115556_PLCD4', 'ENSG00000026508_CD44', 'ENSG00000170458_CD14', 'ENSG00000117281_CD160', 'ENSG00000177575_CD163', 'ENSG00000135535_CD164', 'ENSG00000091972_CD200', 'ENSG00000163606_CD200R1', 'ENSG00000206531_CD200R1L', 'ENSG00000182685_BRICD5', 'ENSG00000111731_C2CD5', 'ENSG00000169442_CD52', 'ENSG00000143119_CD53', 'ENSG00000196352_CD55', 'ENSG00000116815_CD58', 'ENSG00000085063_CD59', 'ENSG00000105185_PDCD5', 'ENSG00000255909_PDCD5P1', 'ENSG00000145284_SCD5', 'ENSG00000167775_CD320', 'ENSG00000110848_CD69', 'ENSG00000139187_KLRG1', 'ENSG00000139193_CD27', 'ENSG00000215039_CD27-AS1', 'ENSG00000120217_CD274', 'ENSG00000103855_CD276', 'ENSG00000204287_HLA-DRA', 'ENSG00000196126_HLA-DRB1', 'ENSG00000198502_HLA-DRB5', 'ENSG00000229391_HLA-DRB6', 'ENSG00000116815_CD58', 'ENSG00000168329_CX3CR1', 'ENSG00000272398_CD24', 'ENSG00000122223_CD244', 'ENSG00000198821_CD247', 'ENSG00000122223_CD244', 'ENSG00000177575_CD163', 'ENSG00000112149_CD83', 'ENSG00000185963_BICD2', 'ENSG00000157617_C2CD2', 'ENSG00000172375_C2CD2L', 'ENSG00000116824_CD2', 'ENSG00000091972_CD200', 'ENSG00000163606_CD200R1', 'ENSG00000206531_CD200R1L', 'ENSG00000012124_CD22', 'ENSG00000150637_CD226', 'ENSG00000272398_CD24', 'ENSG00000122223_CD244', 'ENSG00000198821_CD247', 'ENSG00000139193_CD27', 'ENSG00000215039_CD27-AS1', 'ENSG00000120217_CD274', 'ENSG00000103855_CD276', 'ENSG00000198087_CD2AP', 'ENSG00000169217_CD2BP2', 'ENSG00000144554_FANCD2', 'ENSG00000206527_HACD2', 'ENSG00000170584_NUDCD2', 'ENSG00000071994_PDCD2', 'ENSG00000126249_PDCD2L', 'ENSG00000049883_PTCD2', 'ENSG00000186193_SAPCD2', 'ENSG00000108604_SMARCD2', 'ENSG00000185561_TLCD2', 'ENSG00000075035_WSCD2', 'ENSG00000150637_CD226', 'ENSG00000110651_CD81', 'ENSG00000238184_CD81-AS1', 'ENSG00000134061_CD180', 'ENSG00000004468_CD38', 'ENSG00000012124_CD22', 'ENSG00000150637_CD226', 'ENSG00000135404_CD63', 'ENSG00000135218_CD36', 'ENSG00000137101_CD72', 'ENSG00000125810_CD93', 'ENSG00000010278_CD9', 'ENSG00000125810_CD93', 'ENSG00000153283_CD96', 'ENSG00000002586_CD99', 'ENSG00000102181_CD99L2', 'ENSG00000223773_CD99P1', 'ENSG00000204592_HLA-E', 'ENSG00000085117_CD82', 'ENSG00000134256_CD101']\n",
    "        cell_cycle_genes = ['ENSG00000011426_ANLN', 'ENSG00000143401_ANP32E', 'ENSG00000156802_ATAD2', 'ENSG00000087586_AURKA', 'ENSG00000178999_AURKB', 'ENSG00000089685_BIRC5', 'ENSG00000197299_BLM', 'ENSG00000136492_BRIP1', 'ENSG00000169679_BUB1', 'ENSG00000118412_CASP8AP2', 'ENSG00000094916_CBX5', 'ENSG00000157456_CCNB2', 'ENSG00000175305_CCNE2', 'ENSG00000117399_CDC20', 'ENSG00000158402_CDC25C', 'ENSG00000093009_CDC45', 'ENSG00000094804_CDC6', 'ENSG00000184661_CDCA2', 'ENSG00000111665_CDCA3', 'ENSG00000144354_CDCA7', 'ENSG00000134690_CDCA8', 'ENSG00000170312_CDK1', 'ENSG00000115163_CENPA', 'ENSG00000138778_CENPE', 'ENSG00000117724_CENPF', 'ENSG00000151725_CENPU', 'ENSG00000159259_CHAF1B', 'ENSG00000136108_CKAP2', 'ENSG00000169607_CKAP2L', 'ENSG00000175216_CKAP5', 'ENSG00000173207_CKS1B', 'ENSG00000123975_CKS2', 'ENSG00000092853_CLSPN', 'ENSG00000102974_CTCF', 'ENSG00000126787_DLGAP5', 'ENSG00000136982_DSCC1', 'ENSG00000143476_DTL', 'ENSG00000129173_E2F8', 'ENSG00000114346_ECT2', 'ENSG00000174371_EXO1', 'ENSG00000168496_FEN1', 'ENSG00000092140_G2E3', 'ENSG00000139354_GAS2L3', 'ENSG00000131153_GINS2', 'ENSG00000112312_GMNN', 'ENSG00000075218_GTSE1', 'ENSG00000119969_HELLS', 'ENSG00000123485_HJURP', 'ENSG00000164104_HMGB2', 'ENSG00000072571_HMMR', 'ENSG00000189159_JPT1', 'ENSG00000138160_KIF11', 'ENSG00000138182_KIF20B', 'ENSG00000137807_KIF23', 'ENSG00000142945_KIF2C', 'ENSG00000143815_LBR', 'ENSG00000073111_MCM2', 'ENSG00000104738_MCM4', 'ENSG00000100297_MCM5', 'ENSG00000076003_MCM6', 'ENSG00000148773_MKI67', 'ENSG00000095002_MSH2', 'ENSG00000132780_NASP', 'ENSG00000010292_NCAPD2', 'ENSG00000080986_NDC80', 'ENSG00000117650_NEK2', 'ENSG00000143228_NUF2', 'ENSG00000137804_NUSAP1', 'ENSG00000132646_PCNA', 'ENSG00000129195_PIMREG', 'ENSG00000101868_POLA1', 'ENSG00000077514_POLD3', 'ENSG00000198056_PRIM1', 'ENSG00000134222_PSRC1', 'ENSG00000051180_RAD51', 'ENSG00000111247_RAD51AP1', 'ENSG00000100401_RANGAP1', 'ENSG00000049541_RFC2', 'ENSG00000117748_RPA2', 'ENSG00000167325_RRM1', 'ENSG00000171848_RRM2', 'ENSG00000163950_SLBP', 'ENSG00000113810_SMC4', 'ENSG00000013810_TACC3', 'ENSG00000075131_TIPIN', 'ENSG00000120802_TMPO', 'ENSG00000131747_TOP2A', 'ENSG00000088325_TPX2', 'ENSG00000112742_TTK', 'ENSG00000188229_TUBB4B', 'ENSG00000176890_TYMS', 'ENSG00000175063_UBE2C', 'ENSG00000012963_UBR7', 'ENSG00000276043_UHRF1', 'ENSG00000076248_UNG', 'ENSG00000162607_USP1', 'ENSG00000092470_WDR76']\n",
    "        coding_pos = [cite_inputs_features.index(gene) for gene in important_cols]\n",
    "        coding_pos = list(set(coding_pos))\n",
    "        rna_levels = rna_levels[:, coding_pos]\n",
    "        rna_levels_test = rna_levels_test[:, coding_pos]\n",
    "\n",
    "    \n",
    "    inputs_processed = np.concatenate((inputs_svd, rna_levels), 1)\n",
    "    inputs_test_processed = np.concatenate((inputs_test_svd, rna_levels_test), 1)\n",
    "    \n",
    "    save_data = 0\n",
    "    if save_data:\n",
    "        sparse.save_npz(data_dir + \"cite_gex_train_svd.sparse.npz\", sparse.csr_matrix(np.matrix(inputs_svd)))\n",
    "        sparse.save_npz(data_dir + \"cite_gex_test_svd.sparse.npz\", sparse.csr_matrix(np.matrix(inputs_test_svd)))\n",
    "        \n",
    "else: \n",
    "    n_components = 48\n",
    "\n",
    "    svd =  TruncatedSVD(n_components=n_components, random_state=1)\n",
    "    inputs_combined = np.concatenate((inputs, inputs_test))\n",
    "    inputs_combined = svd.fit_transform(inputs_combined)\n",
    "    inputs_processed = inputs_combined[:len(inputs)]\n",
    "    inputs_test_svd = inputs_combined[-len(inputs_test):]\n",
    "    \n",
    "    add_full_atac = 0\n",
    "    if add_full_atac:\n",
    "        inputs_processed = np.concatenate((inputs_svd, imputed_inputs), 1)\n",
    "        inputs_test_processed = np.concatenate((inputs_test_svd, imputed_inputs_test), 1)\n",
    "    else:\n",
    "        inputs_processed = inputs_svd\n",
    "        inputs_test_processed = inputs_test_svd\n",
    "    \n",
    "    save_data = 0\n",
    "    if save_data:\n",
    "        sparse.save_npz(data_dir + \"multi_atac_train_svd.sparse.npz\", sparse.csr_matrix(np.matrix(inputs_svd)))\n",
    "        sparse.save_npz(data_dir + \"multi_atac_test_svd.sparse.npz\", sparse.csr_matrix(np.matrix(inputs_test_svd)))\n",
    "    \n",
    "    \n",
    "train_loader, val_loader = utils.make_loaders(inputs_processed, targets, batch_size=batch_size, num_workers=num_workers)\n",
    "test_loader = utils.make_loaders(inputs_test_processed, batch_size=batch_size, num_workers=num_workers)\n",
    "  "
   ]
  },
  {
   "cell_type": "markdown",
   "id": "567082db",
   "metadata": {},
   "source": [
    "## Train model"
   ]
  },
  {
   "cell_type": "code",
   "execution_count": 131,
   "id": "531df83f",
   "metadata": {},
   "outputs": [
    {
     "data": {
      "text/plain": [
       "<module 'utils' from '/home/artemy/multimodal_proj/nb/utils.py'>"
      ]
     },
     "execution_count": 131,
     "metadata": {},
     "output_type": "execute_result"
    }
   ],
   "source": [
    "reload(utils)"
   ]
  },
  {
   "cell_type": "code",
   "execution_count": 156,
   "id": "8ca18ed0",
   "metadata": {},
   "outputs": [],
   "source": [
    "# generic parameters\n",
    "trainer_params = {\n",
    "                  'inputs_fn': inputs_train_fn,\n",
    "\n",
    "                  'device': device, \n",
    "                  'wd': 0.02,\n",
    "                  'lr': 3e-3 \n",
    "                 }\n",
    "\n",
    "# configure model\n",
    "model = Universal_Model\n",
    "model_params = {'n_components': n_components}\n",
    "\n",
    "model_params['layers_sizes'] = [512, 512, 512, 512]\n",
    "model_params['concat_pos'] = 4\n",
    "model_params['n_of_layers_to_concat'] = 1\n",
    "model_params['dropout'] = 1\n",
    "\n",
    "\n",
    "# best variant\n",
    "trainer_params['use_one_cycle'] = 0\n",
    "\n",
    "# doesn't help\n",
    "trainer_params['use_swa'] = 1\n",
    "trainer_params['swa_start'] = 5\n",
    "trainer_params['swa_lr'] = 3e-3\n",
    "\n",
    "\n",
    "trainer_params['max_epochs'] = 30\n",
    "trainer_params['max_schedule_epoch'] = 20 # decrease if you wan't the schedule to finish earlier\n",
    "trainer_params['min_lr'] = 5e-4 # which lr use after the schedule has stopped\n",
    "\n",
    "# sparsity promoting parameters\n",
    "trainer_params['sparsity_beta'] = 0\n",
    "trainer_params['sparsity_rho'] = 0.05\n",
    "\n",
    "# regularization\n",
    "trainer_params['l1_weight'] = 0\n",
    "trainer_params['l2_weight'] = 0\n"
   ]
  },
  {
   "cell_type": "code",
   "execution_count": 157,
   "id": "ebb51543",
   "metadata": {},
   "outputs": [],
   "source": [
    "configure_trainer = True\n",
    "if configure_trainer:\n",
    "    writer = SummaryWriter(log_dir=log_dir)\n",
    "    trainer = utils.Trainer(**trainer_params, writer = writer)\n",
    "    trainer.add_train_loader(train_loader)\n",
    "    trainer.add_val_loader(val_loader)"
   ]
  },
  {
   "cell_type": "code",
   "execution_count": 158,
   "id": "fd6619a7",
   "metadata": {},
   "outputs": [],
   "source": [
    "torch.cuda.empty_cache()"
   ]
  },
  {
   "cell_type": "code",
   "execution_count": 159,
   "id": "3bfbeea9",
   "metadata": {
    "scrolled": true
   },
   "outputs": [
    {
     "name": "stdout",
     "output_type": "stream",
     "text": [
      "Using TensorBoard for output\n"
     ]
    },
    {
     "name": "stderr",
     "output_type": "stream",
     "text": [
      "100%|███████████████████████████████████████████████████████████████████████████████████████████████████| 30/30 [00:32<00:00,  1.08s/it]"
     ]
    },
    {
     "name": "stdout",
     "output_type": "stream",
     "text": [
      "Training loss: 2.255\n",
      "Training cor: 0.899\n",
      "Validation loss: 2.347\n",
      "Validation cor: 0.894\n",
      "CPU times: user 26min 44s, sys: 1min 9s, total: 27min 54s\n",
      "Wall time: 32.4 s\n"
     ]
    },
    {
     "name": "stderr",
     "output_type": "stream",
     "text": [
      "\n"
     ]
    }
   ],
   "source": [
    "%%time\n",
    "train_model = 1\n",
    "if train_model:\n",
    "    trainer.add_model(model, model_params)\n",
    "    trainer.fit(do_validation=True, subset_train=-1)    "
   ]
  },
  {
   "cell_type": "code",
   "execution_count": 59,
   "id": "648b527d",
   "metadata": {},
   "outputs": [],
   "source": [
    "model_file = f'{o_dir}model_{DATASET}.pt'\n",
    "\n",
    "save_model = 1\n",
    "if save_model:\n",
    "    trainer.save_model(model_file)"
   ]
  },
  {
   "cell_type": "code",
   "execution_count": 62,
   "id": "c19fa5c8",
   "metadata": {},
   "outputs": [],
   "source": [
    "plot_progress_True = False\n",
    "if plot_progress_True:\n",
    "    utils.plot_progress(trainer)"
   ]
  },
  {
   "cell_type": "code",
   "execution_count": 63,
   "id": "991e1a27",
   "metadata": {},
   "outputs": [
    {
     "data": {
      "image/png": "[encoded data removed]",
      "text/plain": [
       "<Figure size 640x480 with 1 Axes>"
      ]
     },
     "metadata": {},
     "output_type": "display_data"
    },
    {
     "data": {
      "image/png": "[encoded data removed]",
      "text/plain": [
       "<Figure size 640x480 with 1 Axes>"
      ]
     },
     "metadata": {},
     "output_type": "display_data"
    }
   ],
   "source": [
    "analyze_pred = 1\n",
    "if analyze_pred:\n",
    "    model_params = {}\n",
    "    model_params['input_dim'] = trainer.train_loader.input_dim\n",
    "    model_params['output_dim'] = trainer.train_loader.output_dim\n",
    "    trainer.add_model(model, model_params)\n",
    "    trainer.load_model(model_file)\n",
    "    rna_pred, rna_orig = trainer.analyze_model(trainer.val_loader)\n",
    "    #plot_model_analysis(rna_pred, rna_orig)\n",
    "\n",
    "    plt.hist(rna_pred.flatten(), bins=100, range=(-5, 20))\n",
    "    plt.title('Predicted data')\n",
    "    plt.ylim((0, 300000))\n",
    "    plt.xlim((-5, 20))\n",
    "    plt.show()\n",
    "    plt.hist(rna_orig.flatten(), bins=100, range=(-5, 20))\n",
    "    plt.ylim((0, 300000))\n",
    "    plt.xlim((-5, 20))\n",
    "    plt.title('Original data')"
   ]
  },
  {
   "cell_type": "markdown",
   "id": "1d2ea040",
   "metadata": {},
   "source": [
    "## RUN LRRT"
   ]
  },
  {
   "cell_type": "code",
   "execution_count": null,
   "id": "b191d091",
   "metadata": {},
   "outputs": [],
   "source": [
    "def run_lrrt(train_loader, val_loader, batch_size=2048, end_lr=10, min_lr=1e-7, wd=2e-2, validation=False, device='cuda'):\n",
    "    def criterion(predicted, orig):\n",
    "        loss_fn = nn.MSELoss()\n",
    "        l = loss_fn(orig, predicted[0])\n",
    "        return l\n",
    "    \n",
    "    model_inst = model(train_loader.input_dim, train_loader.output_dim)\n",
    "    optimizer = torch.optim.AdamW(model_inst.parameters(), lr=min_lr, weight_decay=wd)\n",
    "    lr_finder = LRFinder(model_inst, optimizer, criterion, device=device)\n",
    "    \n",
    "    if validation:\n",
    "        lr_finder.range_test(train_loader, end_lr=end_lr, num_iter=100, val_loader=val_loader)\n",
    "    else:\n",
    "        lr_finder.range_test(train_loader, end_lr=end_lr, num_iter=100)\n",
    "        \n",
    "    lr_finder.plot(log_lr=True)"
   ]
  },
  {
   "cell_type": "code",
   "execution_count": 40,
   "id": "23c83f9d",
   "metadata": {},
   "outputs": [
    {
     "data": {
      "application/vnd.jupyter.widget-view+json": {
       "model_id": "7ea2bffc6d404c8f971fa7926b4056a2",
       "version_major": 2,
       "version_minor": 0
      },
      "text/plain": [
       "  0%|          | 0/100 [00:00<?, ?it/s]"
      ]
     },
     "metadata": {},
     "output_type": "display_data"
    },
    {
     "name": "stdout",
     "output_type": "stream",
     "text": [
      "Stopping early, the loss has diverged\n",
      "Learning rate search finished. See the graph with {finder_name}.plot()\n",
      "LR suggestion: steepest gradient\n",
      "Suggested LR: 4.04E-03\n"
     ]
    },
    {
     "data": {
      "image/png": "[encoded data removed]",
      "text/plain": [
       "<Figure size 640x480 with 1 Axes>"
      ]
     },
     "metadata": {},
     "output_type": "display_data"
    }
   ],
   "source": [
    "lrrt_on_train = 1\n",
    "if lrrt_on_train:\n",
    "    run_lrrt(train_loader, val_loader, end_lr=10)"
   ]
  },
  {
   "cell_type": "code",
   "execution_count": 9,
   "id": "dbaf2e64",
   "metadata": {},
   "outputs": [
    {
     "data": {
      "application/vnd.jupyter.widget-view+json": {
       "model_id": "aea5fd213d104dc6b2b724d8d36a6697",
       "version_major": 2,
       "version_minor": 0
      },
      "text/plain": [
       "  0%|          | 0/100 [00:00<?, ?it/s]"
      ]
     },
     "metadata": {},
     "output_type": "display_data"
    },
    {
     "name": "stdout",
     "output_type": "stream",
     "text": [
      "Stopping early, the loss has diverged\n",
      "Learning rate search finished. See the graph with {finder_name}.plot()\n",
      "LR suggestion: steepest gradient\n",
      "Suggested LR: 2.06E-04\n"
     ]
    },
    {
     "data": {
      "image/png": "[encoded data removed]",
      "text/plain": [
       "<Figure size 640x480 with 1 Axes>"
      ]
     },
     "metadata": {},
     "output_type": "display_data"
    }
   ],
   "source": [
    "lrrt_on_val = 1\n",
    "if lrrt_on_val:\n",
    "    run_lrrt(train_loader, val_loader, validation=True)\n"
   ]
  },
  {
   "cell_type": "markdown",
   "id": "e9c6c6d3",
   "metadata": {},
   "source": [
    "## Make predictions"
   ]
  },
  {
   "cell_type": "code",
   "execution_count": 19,
   "id": "d5b96e12",
   "metadata": {},
   "outputs": [],
   "source": [
    "make_predictions = True\n",
    "if make_predictions:\n",
    "    model_params['input_dim'] = trainer.train_loader.input_dim\n",
    "    model_params['output_dim'] = trainer.train_loader.output_dim\n",
    "    trainer.add_model(model, model_params)\n",
    "    trainer.load_model(model_file)\n",
    "    \n",
    "    \n",
    "    outputs = trainer.transform(test_loader)\n",
    "\n",
    "    with open(pred_file, 'wb') as f:\n",
    "        np.save(f, outputs)"
   ]
  },
  {
   "cell_type": "code",
   "execution_count": null,
   "id": "8d4bf3f2",
   "metadata": {},
   "outputs": [],
   "source": []
  }
 ],
 "metadata": {
  "kernelspec": {
   "display_name": "Python [conda env:torch]",
   "language": "python",
   "name": "conda-env-torch-py"
  },
  "language_info": {
   "codemirror_mode": {
    "name": "ipython",
    "version": 3
   },
   "file_extension": ".py",
   "mimetype": "text/x-python",
   "name": "python",
   "nbconvert_exporter": "python",
   "pygments_lexer": "ipython3",
   "version": "3.9.13"
  }
 },
 "nbformat": 4,
 "nbformat_minor": 5
}
