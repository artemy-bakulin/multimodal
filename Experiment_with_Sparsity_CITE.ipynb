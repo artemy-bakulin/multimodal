{
 "cells": [
  {
   "cell_type": "code",
   "execution_count": 1,
   "id": "4f3e04d1",
   "metadata": {},
   "outputs": [],
   "source": [
    "import torch\n",
    "from torch import nn\n",
    "import pandas as pd\n",
    "import numpy as np\n",
    "from scipy import sparse\n",
    "import time\n",
    "\n",
    "import matplotlib.pyplot as plt\n",
    "\n",
    "from torch.utils.tensorboard import SummaryWriter\n",
    "import torch.nn.functional as F\n",
    "from torch.optim.swa_utils import AveragedModel\n",
    "from tqdm import tqdm\n",
    "\n",
    "from torch_lr_finder import LRFinder\n",
    "\n",
    "import utils\n",
    "from importlib import reload\n",
    "\n",
    "reload(utils)\n",
    "\n",
    "from scipy import sparse"
   ]
  },
  {
   "cell_type": "code",
   "execution_count": 2,
   "id": "2f1ad020",
   "metadata": {},
   "outputs": [],
   "source": [
    "from sparselinear import SparseLinear"
   ]
  },
  {
   "cell_type": "code",
   "execution_count": 3,
   "id": "b7d7a67c",
   "metadata": {},
   "outputs": [
    {
     "name": "stdout",
     "output_type": "stream",
     "text": [
      "Using GPU\n"
     ]
    }
   ],
   "source": [
    "if torch.cuda.is_available():\n",
    "    device = torch.device(\"cuda:0\")\n",
    "    print('Using GPU')\n",
    "else:\n",
    "    device = torch.device(\"cpu\")"
   ]
  },
  {
   "cell_type": "markdown",
   "id": "b00d18ba",
   "metadata": {},
   "source": [
    "## Files"
   ]
  },
  {
   "cell_type": "code",
   "execution_count": 4,
   "id": "c5923b52",
   "metadata": {},
   "outputs": [],
   "source": [
    "DATASET = 'cite'\n",
    "\n",
    "data_dir = '/home/artemy/multimodal_proj/data/competition/'\n",
    "log_dir = '/home/artemy/multimodal_proj/cur_model_tb'\n",
    "o_dir = '/home/artemy/multimodal_proj/data/AE_predictions/'\n",
    "\n",
    "\n",
    "cite_inputs_train_fn = data_dir + \"cite_gex_train.sparse.npz\"\n",
    "cite_targets_train_fn = data_dir + \"cite_adt_train.sparse.npz\"\n",
    "cite_inputs_test_fn = data_dir + \"cite_gex_test.sparse.npz\"\n",
    "\n",
    "sparse_dir = '/home/artemy/multimodal_proj/data/sparse/'\n",
    "peak_connections_file = f'{sparse_dir}protein_interactions.npz'\n"
   ]
  },
  {
   "cell_type": "code",
   "execution_count": 5,
   "id": "797a692c",
   "metadata": {},
   "outputs": [],
   "source": [
    "peak_connections = sparse.load_npz(peak_connections_file).astype(int)\n",
    "connected_peaks = np.asarray(peak_connections.sum(1) != 0).reshape(-1)\n",
    "peak_connections = peak_connections[connected_peaks]"
   ]
  },
  {
   "cell_type": "code",
   "execution_count": 6,
   "id": "35d4dc26",
   "metadata": {},
   "outputs": [],
   "source": [
    "cite_inputs = sparse.load_npz(cite_inputs_train_fn)\n",
    "cite_inputs = cite_inputs[:, connected_peaks]\n",
    "cite_inputs = np.asarray(cite_inputs.todense()).astype(np.float32)"
   ]
  },
  {
   "cell_type": "code",
   "execution_count": 7,
   "id": "67a5fbc1",
   "metadata": {},
   "outputs": [],
   "source": [
    "tuning_data_dir = '/home/artemy/multimodal_proj/data/tuning_data/'\n",
    "cite_inputs_transformed = utils.load_sparse_data(tuning_data_dir + 'cite_gex_train_svd.sparse.npz')\n",
    "cite_inputs_transformed = cite_inputs_transformed[:, :101]"
   ]
  },
  {
   "cell_type": "code",
   "execution_count": 8,
   "id": "636bae85",
   "metadata": {},
   "outputs": [],
   "source": [
    "mixed_cite_inputs = np.concatenate((cite_inputs, cite_inputs_transformed), 1)"
   ]
  },
  {
   "cell_type": "code",
   "execution_count": 9,
   "id": "76eaf5da",
   "metadata": {},
   "outputs": [],
   "source": [
    "cite_targets = utils.load_sparse_data(cite_targets_train_fn)"
   ]
  },
  {
   "cell_type": "code",
   "execution_count": 10,
   "id": "43d253e5",
   "metadata": {},
   "outputs": [],
   "source": [
    "metadata = pd.read_csv(data_dir + 'metadata.csv')\n",
    "cell_labels = pd.read_csv(data_dir + 'cell_labels_cite_train.csv', usecols=[1])\n",
    "train_assay_meta = pd.merge(cell_labels, metadata, left_on='0', right_on='cell_id')\n",
    "val_idx = np.where(train_assay_meta['day'] != 4)[0]"
   ]
  },
  {
   "cell_type": "code",
   "execution_count": 11,
   "id": "bd7b66a5",
   "metadata": {},
   "outputs": [],
   "source": [
    "cite_train_loader, cite_val_loader = utils.make_loaders(mixed_cite_inputs, cite_targets, batch_size=1024, num_workers=1)\n"
   ]
  },
  {
   "cell_type": "markdown",
   "id": "96359dd6",
   "metadata": {},
   "source": [
    "## Model:"
   ]
  },
  {
   "cell_type": "code",
   "execution_count": 12,
   "id": "51b3e075",
   "metadata": {},
   "outputs": [],
   "source": [
    "class Universal_Model(nn.Module, utils.HyperParameters):\n",
    "    def __init__(self,\n",
    "                 input_dim: int,\n",
    "                 output_dim: int,\n",
    "                 layers_sizes = [512] * 4,\n",
    "                 concat_pos = 4,\n",
    "                 n_of_layers_to_concat = 3,\n",
    "                 dropout = 1,\n",
    "                 device = 'cpu',\n",
    "                 **kwargs \n",
    "    ):\n",
    "        super().__init__()\n",
    "        self.save_hyperparameters()\n",
    "        self.layers_sizes = [self.input_dim] + self.layers_sizes + [self.output_dim]\n",
    "        self.n_layers = len(self.layers_sizes) - 1\n",
    "        modules = []\n",
    "        for i in range(self.n_layers):\n",
    "            if i != self.concat_pos:\n",
    "                input_dim = self.layers_sizes[i]\n",
    "            else:\n",
    "                input_dim = sum(self.layers_sizes[self.concat_pos-self.n_of_layers_to_concat+1:self.concat_pos+1])\n",
    "            output_dim = self.layers_sizes[i + 1]\n",
    "            if i == self.n_layers-1 and dropout != 1:\n",
    "                modules.append(nn.Dropout1d(dropout))\n",
    "            modules.append(nn.Linear(input_dim, output_dim))\n",
    "            modules.append(nn.BatchNorm1d(num_features=output_dim))          \n",
    "            modules.append(nn.SiLU())\n",
    "        self.net = nn.Sequential(*modules)\n",
    "        self.net.apply(lambda x: utils.init_weights(x, activation='relu'))\n",
    "    \n",
    "    def forward(self, x):\n",
    "        fc_layer_n = 0\n",
    "        layer_outputs = []\n",
    "        for module in self.net:\n",
    "            if fc_layer_n == self.concat_pos and isinstance(module, nn.Linear):\n",
    "                x = torch.concat(layer_outputs[-self.n_of_layers_to_concat:], 1)\n",
    "            x = module(x)\n",
    "            if isinstance(module, nn.SiLU):\n",
    "                layer_outputs.append(x)\n",
    "            if isinstance(module, nn.Linear):\n",
    "                fc_layer_n += 1\n",
    "        return x"
   ]
  },
  {
   "cell_type": "code",
   "execution_count": 13,
   "id": "db8a90c9",
   "metadata": {},
   "outputs": [],
   "source": [
    "class Sparse_Model(nn.Module, utils.HyperParameters):\n",
    "    def __init__(self,\n",
    "                 peak_connections,\n",
    "                 device = 'cpu',\n",
    "                 nPCs = 100,\n",
    "                 **kwargs\n",
    "    ):\n",
    "        super().__init__()\n",
    "        self.save_hyperparameters()\n",
    "        \n",
    "        self.block2_params = {'layers_sizes': [252, 357, 364],\n",
    "                             'concat_pos': 4,\n",
    "                             'n_of_layers_to_concat': 2,\n",
    "                             'dropout': 0.016973414031438438,\n",
    "                             'input_dim': self.nPCs,\n",
    "                             'output_dim': 183}\n",
    "        \n",
    "        self.initialize_connectivity()\n",
    "        \n",
    "        input_dim = self.peak_connections.shape[0] \n",
    "        output_dim = self.n_connected_genes * self.multiplier\n",
    "        layer = SparseLinear(input_dim, output_dim, connectivity=self.connectivity)\n",
    "        bn = nn.BatchNorm1d(num_features=output_dim) \n",
    "        act = nn.SiLU()\n",
    "        \n",
    "        #input_dim = output_dim \n",
    "        #output_dim = input_dim\n",
    "        #layer2 = SparseLinear(input_dim, output_dim, connectivity=self.next_connectivity)\n",
    "        #bn2 = nn.BatchNorm1d(num_features=output_dim) \n",
    "        #act2 = nn.SiLU()\n",
    "        \n",
    "        self.block1 = nn.Sequential(layer, bn, act)#, layer2, bn2, act2)\n",
    "        \n",
    "        self.block2 = Universal_Model(**self.block2_params)\n",
    "        \n",
    "        input_dim = self.n_connected_genes * self.multiplier + self.block2_params['output_dim']\n",
    "        output_dim = self.n_genes\n",
    "        #layer = SparseLinear(input_dim, output_dim, connectivity=self.reverse_connectivity)\n",
    "        layer = nn.Linear(input_dim, output_dim)\n",
    "        #bn = nn.BatchNorm1d(num_features=output_dim) \n",
    "        #act = nn.SiLU()\n",
    "        self.block3 = nn.Sequential(layer)#, act)\n",
    "        \n",
    "        \n",
    "        self.block1.apply(utils.init_weights)\n",
    "        self.block2.apply(utils.init_weights)\n",
    "        self.block3.apply(utils.init_weights)\n",
    "\n",
    "        \n",
    "    def initialize_connectivity(self):\n",
    "        reformat = lambda x: torch.tensor(x).reshape(1, -1).long()\n",
    "        \n",
    "        non_empty_connections_mask = np.asarray(self.peak_connections.sum(0) != 0).reshape(-1)\n",
    "        non_empty_connections = peak_connections[:, non_empty_connections_mask]\n",
    "        \n",
    "        #bottom_m = sparse.csr_matrix(np.zeros((self.nPCs, non_empty_connections.shape[1])))\n",
    "        #non_empty_connections = sparse.vstack((non_empty_connections, bottom_m), format='csr')\n",
    "        #right_m = sparse.csr_matrix(np.zeros((non_empty_connections.shape[0], self.nPCs)))\n",
    "        #non_empty_connections = sparse.hstack((non_empty_connections, right_m), format='csr')\n",
    "        #non_empty_connections[-self.nPCs:, -self.nPCs:] = 1\n",
    "        \n",
    "        non_empty_connections = non_empty_connections.tocoo()\n",
    "        \n",
    "        self.n_genes = self.peak_connections.shape[1]\n",
    "        self.n_connected_genes = sum(non_empty_connections_mask)\n",
    "        \n",
    "        self.multiplier = 10 \n",
    "        \n",
    "        con_col = reformat(np.tile(non_empty_connections.row, self.multiplier))\n",
    "        con_row = reformat(np.concatenate([non_empty_connections.col + i * self.n_connected_genes for i in range(self.multiplier)]))\n",
    "\n",
    "        self.connectivity = torch.cat((con_row, con_col), dim=0)\n",
    "        \n",
    "        next_cols = np.repeat(np.arange(self.n_connected_genes * self.multiplier), self.multiplier)\n",
    "        next_rows = np.repeat(np.arange(self.n_connected_genes), self.multiplier * self.multiplier) \\\n",
    "                                + np.tile([self.n_connected_genes * i for i in range(self.multiplier)], self.n_connected_genes * self.multiplier)\n",
    "\n",
    "        self.next_connectivity = torch.cat((reformat(next_rows), reformat(next_cols)), dim=0)\n",
    "\n",
    "        rev_con_row = reformat(np.tile(np.where(non_empty_connections_mask)[0], self.multiplier))\n",
    "        rev_con_col = reformat(np.arange(self.n_connected_genes * self.multiplier))\n",
    "        \n",
    "        \n",
    "        #rev_con_row = reformat(np.where(non_empty_connections_mask)[0])\n",
    "        #rev_con_col = reformat(np.arange(self.n_connected_genes))\n",
    "\n",
    "        PC_row = reformat(np.tile(np.arange(self.n_genes), self.block2_params['output_dim']))\n",
    "        PC_col = reformat(np.repeat(np.arange(self.n_connected_genes * self.multiplier, \n",
    "                                              self.n_connected_genes * self.multiplier + self.block2_params['output_dim']), self.n_genes))\n",
    "        \n",
    "        #print(torch.max(PC_row.T), torch.max(PC_col.T))\n",
    "        rev_con_row = torch.cat((rev_con_row, PC_row), axis=1)       \n",
    "        rev_con_col = torch.cat((rev_con_col, PC_col), axis=1)\n",
    "        #print(max(rev_con_row.T), max(rev_con_col.T))\n",
    "        \n",
    "        self.reverse_connectivity = torch.cat((rev_con_row, rev_con_col), axis=0)\n",
    "        \n",
    "        \n",
    "    def forward(self, x):\n",
    "        block1_out = self.block1(x[:, :-self.nPCs])\n",
    "        block2_out = self.block2(x[:, -self.nPCs:])\n",
    "        block3_in = torch.cat((block1_out, block2_out), 1)\n",
    "        block3_out = self.block3(block3_in)\n",
    "        return block3_out\n",
    "        "
   ]
  },
  {
   "cell_type": "code",
   "execution_count": 14,
   "id": "45b5e3e1",
   "metadata": {},
   "outputs": [],
   "source": [
    "class Special_Trainer(utils.Trainer):\n",
    "    def fit(self, return_val_loss=False, verbose=True):\n",
    "        self.verbose = verbose\n",
    "        self.steps_per_epoch = self.train_loader.nb_batches\n",
    "        self.prepare_model()\n",
    "        self.optim = self.configure_optimizers()\n",
    "        self.progress = {'train': [], 'val':[]}\n",
    "        self.epoch = 0\n",
    "        self.n_iter = {'train': 0, 'val': 0}\n",
    "        for self.epoch in tqdm(range(self.max_epochs)):\n",
    "            self.fit_epoch()\n",
    "            self.epoch += 1\n",
    "            \n",
    "        if self.verbose:\n",
    "            print('Training cor: %.3f' % np.mean(self.progress['train']),\n",
    "                  'Validation cor: %.3f' % np.mean(self.progress['val']), sep='\\n')\n",
    "        if return_val_loss:\n",
    "            return np.mean(self.progress['val'])\n",
    "        \n",
    "    def process_batch(self, split='train'):\n",
    "        self.batch_inputs, self.batch_targets = self.batch_inputs.to(self.device), self.batch_targets.to(self.device)\n",
    "        \n",
    "        pred = self.model.forward(self.batch_inputs)\n",
    "\n",
    "        pred_loss = self.MSE_loss(pred, self.batch_targets)\n",
    "        #pc_params = self.model.block3[0].connectivity[1][-self.model.n_genes * self.model.block2_params['output_dim']:]\n",
    "        #pc_l2_loss = torch.sum(torch.pow(pc_params, 2))\n",
    "        loss = pred_loss# + pc_l2_loss * 5\n",
    "\n",
    "\n",
    "        cor = utils.spearman_cor(pred, self.batch_targets)\n",
    "\n",
    "        if split == 'train':\n",
    "            self.optim.zero_grad()\n",
    "            loss.backward()\n",
    "            self.optim.step()\n",
    "\n",
    "        if self.use_tensor_board:\n",
    "            self.writer.add_scalar(f'{split} loss', pred_loss, self.n_iter[split])\n",
    "            self.writer.add_scalar(f'{split} cor', cor, self.n_iter[split])\n",
    "        self.n_iter[split] += 1\n",
    "        if self.epoch == self.max_epochs - 1:\n",
    "            self.progress[split].append(float(cor))\n",
    "    \n",
    "    def fit_epoch(self):\n",
    "        self.model.train()\n",
    "        for self.train_batch_idx, (self.batch_inputs, self.batch_targets) in enumerate(self.train_loader):\n",
    "            self.process_batch(split='train')\n",
    "            \n",
    "        with torch.no_grad():\n",
    "            self.model.eval()\n",
    "            for self.train_batch_idx, (self.batch_inputs, self.batch_targets) in enumerate(self.val_loader):\n",
    "                self.process_batch(split='val')\n",
    "            \n",
    "        \n",
    "    def transform(self, test_loader):\n",
    "        with torch.no_grad():\n",
    "            self.model.eval()\n",
    "            outputs = []\n",
    "            for batch_inputs in test_loader:\n",
    "                if type(batch_inputs) == list or type(batch_inputs) == tuple:\n",
    "                    batch_inputs = batch_inputs[0]\n",
    "                batch_inputs = batch_inputs.to(self.device)\n",
    "                batch_outputs = self.model.forward(batch_inputs)\n",
    "                outputs.append(batch_outputs.to('cpu').detach().numpy())\n",
    "            return np.concatenate(outputs)"
   ]
  },
  {
   "cell_type": "markdown",
   "id": "567082db",
   "metadata": {},
   "source": [
    "## Train model"
   ]
  },
  {
   "cell_type": "code",
   "execution_count": 15,
   "id": "ec82a63a",
   "metadata": {},
   "outputs": [],
   "source": [
    "# generic parameters\n",
    "trainer_params = {\n",
    "                  'device': device, \n",
    "                  'wd': 1.9924782602665775e-05,\n",
    "                  'lr': 0.021244381323042003 \n",
    "                 }\n",
    "\n",
    "# configure model\n",
    "model = Sparse_Model\n",
    "\n",
    "model_params = {'peak_connections': peak_connections, 'nPCs': 101}\n",
    "\n",
    "\n",
    "# best variant\n",
    "trainer_params['use_one_cycle'] = 1\n",
    "\n",
    "trainer_params['max_epochs'] = 20\n"
   ]
  },
  {
   "cell_type": "code",
   "execution_count": 16,
   "id": "ebb51543",
   "metadata": {},
   "outputs": [],
   "source": [
    "writer = SummaryWriter(log_dir=log_dir)\n",
    "trainer = Special_Trainer(**trainer_params, writer = writer)\n",
    "trainer.add_train_loader(cite_train_loader)\n",
    "trainer.add_val_loader(cite_val_loader)"
   ]
  },
  {
   "cell_type": "code",
   "execution_count": 17,
   "id": "3bfbeea9",
   "metadata": {
    "scrolled": true
   },
   "outputs": [
    {
     "name": "stderr",
     "output_type": "stream",
     "text": [
      "100%|███████████████████████████████████████████| 20/20 [00:23<00:00,  1.18s/it]"
     ]
    },
    {
     "name": "stdout",
     "output_type": "stream",
     "text": [
      "Training cor: 0.908\n",
      "Validation cor: 0.890\n",
      "CPU times: user 16min 9s, sys: 37.4 s, total: 16min 46s\n",
      "Wall time: 24.5 s\n"
     ]
    },
    {
     "name": "stderr",
     "output_type": "stream",
     "text": [
      "\n"
     ]
    }
   ],
   "source": [
    "%%time\n",
    "train_model = 1\n",
    "if train_model:\n",
    "    trainer.add_model(model, model_params)\n",
    "    trainer.fit()"
   ]
  },
  {
   "cell_type": "code",
   "execution_count": null,
   "id": "73bde777",
   "metadata": {},
   "outputs": [],
   "source": []
  },
  {
   "cell_type": "code",
   "execution_count": 18,
   "id": "648b527d",
   "metadata": {},
   "outputs": [],
   "source": [
    "model_file = f'{o_dir}model_sparse.pt'\n",
    "\n",
    "save_model = 1\n",
    "if save_model:\n",
    "    trainer.save_model(model_file)"
   ]
  },
  {
   "cell_type": "code",
   "execution_count": 19,
   "id": "991e1a27",
   "metadata": {
    "scrolled": false
   },
   "outputs": [
    {
     "data": {
      "image/png": "[encoded data removed]",
      "text/plain": [
       "<Figure size 640x480 with 1 Axes>"
      ]
     },
     "metadata": {},
     "output_type": "display_data"
    },
    {
     "data": {
      "image/png": "[encoded data removed]",
      "text/plain": [
       "<Figure size 640x480 with 1 Axes>"
      ]
     },
     "metadata": {},
     "output_type": "display_data"
    }
   ],
   "source": [
    "analyze_pred = 1\n",
    "if analyze_pred:\n",
    "    model_params = {}\n",
    "    model_params['nPCs'] = 101\n",
    "    model_params['peak_connections'] = peak_connections\n",
    "    trainer.add_model(model, model_params)\n",
    "    trainer.load_model(model_file)\n",
    "    rna_pred, rna_orig = trainer.analyze_model(trainer.val_loader)\n",
    "    #utils.plot_model_analysis(rna_pred, rna_orig)\n",
    "\n",
    "    plt.hist(rna_pred.flatten(), bins=100)\n",
    "    plt.title('Predicted data')\n",
    "\n",
    "    plt.show()\n",
    "    plt.hist(rna_orig.flatten(), bins=100, range=(-5, 20))\n",
    "    plt.ylim((0, 300000))\n",
    "    plt.xlim((-5, 20))\n",
    "    plt.title('Original data')"
   ]
  },
  {
   "cell_type": "markdown",
   "id": "e9c6c6d3",
   "metadata": {},
   "source": [
    "## Make predictions"
   ]
  },
  {
   "cell_type": "code",
   "execution_count": 39,
   "id": "fcd4d231",
   "metadata": {},
   "outputs": [],
   "source": [
    "pred_file_multi = o_dir + \"multi_gex_pred_rnn.npy\"\n",
    "pred_file_cite = o_dir + \"cite_adt_pred_rnn.npy\""
   ]
  },
  {
   "cell_type": "code",
   "execution_count": 41,
   "id": "d5b96e12",
   "metadata": {},
   "outputs": [],
   "source": [
    "make_predictions = True\n",
    "if make_predictions:\n",
    "    trainer = Special_Trainer(**trainer_params)\n",
    "    model_params['atac_dim'] = multi_train_loader.input_dim\n",
    "    model_params['rna_dim'] = multi_train_loader.output_dim\n",
    "    model_params['prot_dim'] = multi_train_loader.output_dim\n",
    "    trainer.add_model(model, model_params)\n",
    "    trainer.load_model(model_file)\n",
    "    \n",
    "    \n",
    "    outputs = trainer.transform(multi_test_loader, 'atac')\n",
    "    outputs = rna_svd.inverse_transform(outputs)\n",
    "    \n",
    "    outputs = \n",
    "    \n",
    "    with open(pred_file_cite, 'wb') as f:\n",
    "        np.save(f, outputs)"
   ]
  }
 ],
 "metadata": {
  "kernelspec": {
   "display_name": "Python [conda env:torch]",
   "language": "python",
   "name": "conda-env-torch-py"
  },
  "language_info": {
   "codemirror_mode": {
    "name": "ipython",
    "version": 3
   },
   "file_extension": ".py",
   "mimetype": "text/x-python",
   "name": "python",
   "nbconvert_exporter": "python",
   "pygments_lexer": "ipython3",
   "version": "3.9.13"
  }
 },
 "nbformat": 4,
 "nbformat_minor": 5
}
