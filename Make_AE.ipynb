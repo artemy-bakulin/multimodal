{
 "cells": [
  {
   "cell_type": "code",
   "execution_count": 1,
   "id": "4f3e04d1",
   "metadata": {},
   "outputs": [
    {
     "name": "stderr",
     "output_type": "stream",
     "text": [
      "/home/artemy/bin/miniconda3/envs/torch/lib/python3.9/site-packages/scipy/__init__.py:146: UserWarning: A NumPy version >=1.16.5 and <1.23.0 is required for this version of SciPy (detected version 1.23.1\n",
      "  warnings.warn(f\"A NumPy version >={np_minversion} and <{np_maxversion}\"\n"
     ]
    }
   ],
   "source": [
    "import torch\n",
    "from torch import nn\n",
    "import pandas as pd\n",
    "import numpy as np\n",
    "from scipy import sparse\n",
    "import time\n",
    "\n",
    "import matplotlib.pyplot as plt\n",
    "\n",
    "from torch.utils.tensorboard import SummaryWriter\n",
    "from tqdm import tqdm\n",
    "\n",
    "from torch_lr_finder import LRFinder\n",
    "\n",
    "from utils import *"
   ]
  },
  {
   "cell_type": "code",
   "execution_count": 2,
   "id": "aa2b89b9",
   "metadata": {},
   "outputs": [
    {
     "name": "stdout",
     "output_type": "stream",
     "text": [
      "Using GPU\n"
     ]
    }
   ],
   "source": [
    "if torch.cuda.is_available():\n",
    "    device = torch.device(\"cuda:0\")\n",
    "    print('Using GPU')\n",
    "else:\n",
    "    device = torch.device(\"cpu\")"
   ]
  },
  {
   "cell_type": "markdown",
   "id": "5b2ec7fb",
   "metadata": {},
   "source": [
    "## Files"
   ]
  },
  {
   "cell_type": "code",
   "execution_count": 3,
   "id": "acf70749",
   "metadata": {},
   "outputs": [],
   "source": [
    "DATASET = 'cite'"
   ]
  },
  {
   "cell_type": "code",
   "execution_count": 4,
   "id": "c6e5d653",
   "metadata": {},
   "outputs": [],
   "source": [
    "data_dir = '/home/artemy/multimodal_proj/data/competition/'\n",
    "\n",
    "log_dir = '/home/artemy/multimodal_proj/cur_model_tb'\n",
    "\n",
    "o_dir = '/home/artemy/multimodal_proj/data/AE_predictions/'\n",
    "pred_file = o_dir + \"multi_gex_pred.npy\""
   ]
  },
  {
   "cell_type": "code",
   "execution_count": 5,
   "id": "dd683004",
   "metadata": {},
   "outputs": [],
   "source": [
    "if DATASET == 'multi':\n",
    "    inputs_train_fn = data_dir + \"atac_train.sparse.npz\"\n",
    "    targets_train_fn = data_dir + \"gex_train.sparse.npz\"\n",
    "    inputs_test_fn = data_dir + \"atac_test.sparse.npz\"\n",
    "elif DATASET == 'cite':\n",
    "    inputs_train_fn = data_dir + \"cite_gex_train.sparse.npz\"\n",
    "    targets_train_fn = data_dir + \"cite_adt_train.sparse.npz\"\n",
    "    inputs_test_fn = data_dir + \"cite_gex_test.sparse.npz\"\n"
   ]
  },
  {
   "cell_type": "markdown",
   "id": "96359dd6",
   "metadata": {},
   "source": [
    "## Model:"
   ]
  },
  {
   "cell_type": "code",
   "execution_count": 6,
   "id": "e1fed9a0",
   "metadata": {},
   "outputs": [],
   "source": [
    "def init_weights(m):\n",
    "    if isinstance(m, nn.Linear):\n",
    "        torch.nn.init.xavier_uniform_(m.weight)\n",
    "        m.bias.data.fill_(0.01) \n",
    "\n",
    "class Encoder(nn.Module, HyperParameters):\n",
    "    def __init__(self,\n",
    "                input_dim: int,\n",
    "                out_dims: list = [2000, 2000]\n",
    "    ):\n",
    "        super().__init__()\n",
    "        self.save_hyperparameters()\n",
    "        self.n_layers = len(out_dims)\n",
    "        \n",
    "        modules = []\n",
    "        for i in range(self.n_layers):\n",
    "            input_dim = self.input_dim if i == 0 else self.out_dims[i-1]\n",
    "            modules.append(nn.Linear(input_dim, self.out_dims[i]))\n",
    "            modules.append(nn.BatchNorm1d(num_features=self.out_dims[i]))            \n",
    "            modules.append(nn.LeakyReLU(0.2))\n",
    "            \n",
    "            \n",
    "            \n",
    "        self.Encoder = nn.Sequential(*modules) \n",
    "        self.Encoder.apply(init_weights)\n",
    "    \n",
    "    def forward(self, x):\n",
    "        out = self.Encoder(x)\n",
    "        return out\n",
    "    \n",
    "    \n",
    "class Decoder(nn.Module, HyperParameters):\n",
    "    def __init__(self,\n",
    "                out_dim: int,\n",
    "                input_dims: list = [2000, 2000],\n",
    "                \n",
    "    ):\n",
    "        super().__init__()\n",
    "        self.save_hyperparameters()\n",
    "        \n",
    "        self.n_layers = len(input_dims)\n",
    "        \n",
    "        modules = []\n",
    "        for i in range(self.n_layers):\n",
    "            out_dim = self.out_dim if i == self.n_layers-1 else self.input_dims[i+1]\n",
    "            modules.append(nn.Linear(self.input_dims[i], out_dim))\n",
    "            if i < self.n_layers-1:\n",
    "                modules.append(nn.BatchNorm1d(num_features=out_dim))\n",
    "                modules.append(nn.LeakyReLU(0.2))\n",
    "            modules.append(nn.Softplus())            \n",
    "            \n",
    "        self.Decoder = nn.Sequential(*modules) \n",
    "        self.Decoder.apply(init_weights)\n",
    "        \n",
    "    def forward(self, x):\n",
    "        out = self.Decoder(x)\n",
    "        return out"
   ]
  },
  {
   "cell_type": "code",
   "execution_count": 7,
   "id": "153e8d3c",
   "metadata": {},
   "outputs": [],
   "source": [
    "class AE(nn.Module, HyperParameters):\n",
    "    def __init__(self,\n",
    "                n_atac_features: int,\n",
    "                n_rna_features: int = None,\n",
    "                encoder_dims: list = [1000, 1000],\n",
    "                decoder_dims: list = [1000, 1000]\n",
    "                ):\n",
    "        super().__init__()\n",
    "        self.save_hyperparameters()\n",
    "        self.encoder = Encoder(n_atac_features, out_dims=encoder_dims)\n",
    "        #self.decoder_atac = Decoder(n_atac_features, input_dims=decoder_dims)\n",
    "        self.decoder_rna = Decoder(n_rna_features, input_dims=decoder_dims)\n",
    "        \n",
    "    def forward(self, x):\n",
    "        out = self.encoder(x)\n",
    "        #atac_recon = self.decoder_atac(out)\n",
    "        atac_recon = 0\n",
    "        rna_recon = self.decoder_rna(out)\n",
    "        return atac_recon, rna_recon\n",
    "    \n",
    "    def loss(self, y, y_hat):\n",
    "        loss_fn = nn.MSELoss()\n",
    "        l = loss_fn(y_hat, y)\n",
    "        return l\n",
    "    \n",
    "    def weighted_loss(self, y, y_hat):\n",
    "        y = y.flatten()\n",
    "        y_hat = y_hat.flatten()\n",
    "        non_zero_y = y[torch.ne(y_hat, 0)]\n",
    "        non_zero_y_hat = y_hat[torch.ne(y_hat, 0)]\n",
    "        zero_y = y[torch.eq(y_hat, 0)]\n",
    "        zero_y_hat = y_hat[torch.eq(y_hat, 0)]\n",
    "        l = torch.mean((zero_y_hat-zero_y) ** 2 / 2  * 1/10) \n",
    "        l += torch.mean((non_zero_y_hat-non_zero_y) ** 2 / 2  * 9/10 )\n",
    "        return l\n",
    "    \n",
    "    def correl_loss(self, y, y_hat):\n",
    "        l = -spearman_cor(y_hat, y)\n",
    "        return l\n",
    "    \n",
    "    def training_step(self, inputs, targets, calculate_cor=True):\n",
    "        atac_recon, rna_recon = self.forward(inputs)\n",
    "        #loss_atac = self.loss(atac_recon, inputs)\n",
    "        loss_atac = 1\n",
    "        loss_rna = self.loss(rna_recon, targets)\n",
    "        if calculate_cor:\n",
    "            cor = spearman_cor(rna_recon, targets)\n",
    "        else:\n",
    "            cor=0\n",
    "        return loss_atac, loss_rna, cor\n",
    "    \n",
    "    def validation_step(self, inputs, targets, calculate_cor=True):\n",
    "        atac_recon, rna_recon = self.forward(inputs)\n",
    "        #loss_atac = self.loss(atac_recon, inputs)\n",
    "        loss_atac = 1\n",
    "        loss_rna = self.loss(rna_recon, targets)\n",
    "        if calculate_cor:\n",
    "            cor = spearman_cor(rna_recon, targets)\n",
    "        else:\n",
    "            cor=0\n",
    "        return loss_atac, loss_rna, cor\n",
    "    \n",
    "    def predict(self, inputs):\n",
    "        atac_recon, rna_recon = self.forward(inputs)\n",
    "        return atac_recon, rna_recon\n"
   ]
  },
  {
   "cell_type": "code",
   "execution_count": 8,
   "id": "930105f6",
   "metadata": {},
   "outputs": [],
   "source": [
    "if DATASET == 'multi':\n",
    "    model_params = {'encoder_dims': [2000, 2000],\n",
    "                    'decoder_dims': [2000, 2000]}\n",
    "elif DATASET == 'cite':\n",
    "    model_params = {'encoder_dims': [5000, 3000],\n",
    "                    'decoder_dims': [3000, 2000]}"
   ]
  },
  {
   "cell_type": "markdown",
   "id": "9bc3c334",
   "metadata": {},
   "source": [
    "## Train model"
   ]
  },
  {
   "cell_type": "code",
   "execution_count": 9,
   "id": "6aa0ce9d",
   "metadata": {},
   "outputs": [],
   "source": [
    "trainer_params = {'batch_size': 2048,\n",
    "                  'use_schedule': True,\n",
    "                  'inputs_fn': inputs_train_fn,\n",
    "                  'targets_fn': targets_train_fn,\n",
    "                  'device': device, \n",
    "                  'wd': 2e-2\n",
    "                 }\n",
    "\n",
    "if DATASET == 'multi':\n",
    "    trainer_params['max_epochs'] = 20\n",
    "    trainer_params['lr'] = 1e-3\n",
    "elif DATASET == 'cite':\n",
    "    trainer_params['max_epochs'] = 12\n",
    "    trainer_params['lr'] = 5e-5"
   ]
  },
  {
   "cell_type": "code",
   "execution_count": 10,
   "id": "3bfbeea9",
   "metadata": {
    "scrolled": true
   },
   "outputs": [
    {
     "name": "stdout",
     "output_type": "stream",
     "text": [
      "Using TensorBoard for output\n"
     ]
    },
    {
     "name": "stderr",
     "output_type": "stream",
     "text": [
      "100%|███████████████████████████████████████████████████████████████████████████████████████████████████| 12/12 [01:25<00:00,  7.09s/it]"
     ]
    },
    {
     "name": "stdout",
     "output_type": "stream",
     "text": [
      "Training loss: 1.96\n",
      "Training cor: 0.91\n",
      "Validation loss: 2.68\n",
      "Validation cor: 0.88\n",
      "Hours: 0.0\n",
      "Minutes: 1.0\n"
     ]
    },
    {
     "name": "stderr",
     "output_type": "stream",
     "text": [
      "\n"
     ]
    }
   ],
   "source": [
    "train_model = True\n",
    "if train_model:\n",
    "    writer = SummaryWriter(log_dir=log_dir)\n",
    "\n",
    "    t = time.time()\n",
    "    trainer = Trainer(**trainer_params, writer = writer)\n",
    "    trainer.fit(AE, model_params, do_validation=True, subset_train=-1)\n",
    "\n",
    "    elapsed_time = time.time()-t\n",
    "    print('Hours: %s' % (elapsed_time // (60 ** 2)),\n",
    "         'Minutes: %s' % (elapsed_time % 60 ** 2 // 60), sep='\\n')"
   ]
  },
  {
   "cell_type": "code",
   "execution_count": 11,
   "id": "648b527d",
   "metadata": {},
   "outputs": [],
   "source": [
    "save_model = False\n",
    "if save_model:\n",
    "    trainer.save_model(f'{o_dir}model_{DATASET}_full.pt')"
   ]
  },
  {
   "cell_type": "code",
   "execution_count": 12,
   "id": "c19fa5c8",
   "metadata": {},
   "outputs": [],
   "source": [
    "plot_progress_True = False\n",
    "if plot_progress_True:\n",
    "    plot_progress(trainer)"
   ]
  },
  {
   "cell_type": "code",
   "execution_count": 13,
   "id": "991e1a27",
   "metadata": {},
   "outputs": [],
   "source": [
    "analyze_pred = False\n",
    "if analyze_pred:\n",
    "    trainer = Trainer(**trainer_params)\n",
    "    trainer.train_loader, trainer.val_loader = trainer.load_data('train', subset_train=2048)\n",
    "    trainer.load_model(AE, f'{o_dir}model_{DATASET}_full.pt', model_params)\n",
    "    atac_pred, rna_pred, atac_orig, rna_orig = trainer.analyze_model(AE)\n",
    "    plot_model_analysis(atac_pred, rna_pred, atac_orig, rna_orig)\n",
    "    \n",
    "    \n"
   ]
  },
  {
   "cell_type": "markdown",
   "id": "1d2ea040",
   "metadata": {},
   "source": [
    "## RUN LRRT"
   ]
  },
  {
   "cell_type": "code",
   "execution_count": 14,
   "id": "6600f29a",
   "metadata": {},
   "outputs": [],
   "source": [
    "def run_lrrt(batch_size=2048, min_lr=1e-7, wd=2e-2, validation=False, device='cuda'):\n",
    "    def criterion(predicted, orig):\n",
    "        loss_fn = nn.MSELoss()\n",
    "        l = loss_fn(orig, predicted[1])\n",
    "        return l\n",
    "\n",
    "    trainer = Trainer(batch_size=batch_size,\n",
    "                      inputs_fn=inputs_train_fn,\n",
    "                      targets_fn=targets_train_fn)\n",
    "    train_loader, val_loader = trainer.load_data('train', subset_train=-1)\n",
    "    model = AE(train_loader.n_input_features, train_loader.n_target_features)\n",
    "    optimizer = torch.optim.AdamW(model.parameters(), lr=min_lr, weight_decay=wd)\n",
    "    lr_finder = LRFinder(model, optimizer, criterion, device=device)\n",
    "    if validation:\n",
    "        lr_finder.range_test(train_loader, end_lr=10, num_iter=100, val_loader=val_loader)\n",
    "    else:\n",
    "        lr_finder.range_test(train_loader, end_lr=10, num_iter=100)\n",
    "        \n",
    "    lr_finder.plot(log_lr=True)"
   ]
  },
  {
   "cell_type": "code",
   "execution_count": 15,
   "id": "4a8c6ce7",
   "metadata": {},
   "outputs": [],
   "source": [
    "lrrt_on_train = False\n",
    "if lrrt_on_train:\n",
    "    run_lrrt()"
   ]
  },
  {
   "cell_type": "code",
   "execution_count": 16,
   "id": "c85a56b4",
   "metadata": {},
   "outputs": [],
   "source": [
    "lrrt_on_val = False\n",
    "if lrrt_on_val:\n",
    "    run_lrrt(validation=True)\n"
   ]
  },
  {
   "cell_type": "markdown",
   "id": "089a27ed",
   "metadata": {},
   "source": [
    "## Make predictions"
   ]
  },
  {
   "cell_type": "code",
   "execution_count": 17,
   "id": "fee8a783",
   "metadata": {},
   "outputs": [],
   "source": [
    "make_predictions = False\n",
    "if make_predictions:\n",
    "    outputs = trainer.test_model(inputs_test_fn)\n",
    "\n",
    "    with open(pred_file, 'wb') as f:\n",
    "        np.save(f, outputs)"
   ]
  },
  {
   "cell_type": "code",
   "execution_count": null,
   "id": "d4e45520",
   "metadata": {},
   "outputs": [],
   "source": []
  }
 ],
 "metadata": {
  "kernelspec": {
   "display_name": "Python [conda env:torch]",
   "language": "python",
   "name": "conda-env-torch-py"
  },
  "language_info": {
   "codemirror_mode": {
    "name": "ipython",
    "version": 3
   },
   "file_extension": ".py",
   "mimetype": "text/x-python",
   "name": "python",
   "nbconvert_exporter": "python",
   "pygments_lexer": "ipython3",
   "version": "3.9.13"
  }
 },
 "nbformat": 4,
 "nbformat_minor": 5
}
